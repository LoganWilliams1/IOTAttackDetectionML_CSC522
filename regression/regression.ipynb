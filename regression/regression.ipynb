{
 "cells": [
  {
   "cell_type": "code",
   "execution_count": 1,
   "metadata": {},
   "outputs": [],
   "source": [
    "import pandas as pd\n",
    "import sys\n",
    "import numpy as np\n",
    "from tqdm import tqdm\n",
    "import warnings\n",
    "warnings.filterwarnings('ignore')\n",
    "from sklearn.linear_model import LogisticRegression\n",
    "from sklearn.metrics import accuracy_score, recall_score, precision_score, f1_score\n",
    "sys.path.append( '../util' )\n",
    "import util as util\n",
    "from memory_profiler import profile"
   ]
  },
  {
   "cell_type": "code",
   "execution_count": 3,
   "metadata": {},
   "outputs": [],
   "source": [
    "\n",
    "##profiling doesn't work here so commenting out\n",
    "# @profile\n",
    "def train_test_logistic_regression(train,test):\n",
    "    y_test = test[util.y_column].values\n",
    "    model = LogisticRegression(n_jobs=-1)\n",
    "    print(\"Training regression model......\")\n",
    "    model.fit(train[util.X_columns],train[util.y_column])\n",
    "    print(\"Testing regression model......\")\n",
    "    preds = model.predict(test[util.X_columns])\n",
    "    print(\"Returning model predictions......\")\n",
    "    return preds,y_test\n",
    "\n"
   ]
  },
  {
   "cell_type": "code",
   "execution_count": null,
   "metadata": {},
   "outputs": [],
   "source": [
    "def print_scores(y_pred, y_test):\n",
    "    print('accuracy_score: ', accuracy_score(y_pred, y_test))\n",
    "    print('recall_score: ', recall_score(y_pred, y_test, average='macro'))\n",
    "    print('precision_score: ', precision_score(y_pred, y_test, average='macro'))\n",
    "    print('f1_score: ', f1_score(y_pred, y_test, average='macro'))\n",
    "    print()\n",
    "    print()\n",
    "    print()    "
   ]
  },
  {
   "cell_type": "markdown",
   "metadata": {},
   "source": [
    "# Regression with 2 classes"
   ]
  },
  {
   "cell_type": "code",
   "execution_count": 3,
   "metadata": {},
   "outputs": [
    {
     "name": "stdout",
     "output_type": "stream",
     "text": [
      "Importing datasets.....\n",
      "Processing training and test data....\n",
      "read files: 67\n",
      "check 1\n",
      "check 2\n",
      "Index(['AVG', 'Covariance', 'Drate', 'Duration', 'Header_Length', 'IAT',\n",
      "       'Magnitue', 'Max', 'Min', 'Number', 'Protocol Type', 'Radius', 'Rate',\n",
      "       'Srate', 'Std', 'Tot size', 'Tot sum', 'Variance', 'Weight',\n",
      "       'ack_count', 'ack_flag_number', 'cwr_flag_number', 'ece_flag_number',\n",
      "       'fin_count', 'fin_flag_number', 'flow_duration', 'psh_flag_number',\n",
      "       'rst_count', 'rst_flag_number', 'syn_count', 'syn_flag_number',\n",
      "       'urg_count'],\n",
      "      dtype='object')\n",
      "check 4\n",
      "check 5\n",
      "read files: 17\n",
      "check 1\n",
      "check 2\n",
      "Index(['AVG', 'Covariance', 'Drate', 'Duration', 'Header_Length', 'IAT',\n",
      "       'Magnitue', 'Max', 'Min', 'Number', 'Protocol Type', 'Radius', 'Rate',\n",
      "       'Srate', 'Std', 'Tot size', 'Tot sum', 'Variance', 'Weight',\n",
      "       'ack_count', 'ack_flag_number', 'cwr_flag_number', 'ece_flag_number',\n",
      "       'fin_count', 'fin_flag_number', 'flow_duration', 'psh_flag_number',\n",
      "       'rst_count', 'rst_flag_number', 'syn_count', 'syn_flag_number',\n",
      "       'urg_count'],\n",
      "      dtype='object')\n",
      "check 4\n",
      "check 5\n",
      "Finished processing training and test data\n",
      "Mapping labels to two classes.....\n",
      "Data import and processing complete....\n",
      "Training regression model......\n"
     ]
    },
    {
     "name": "stderr",
     "output_type": "stream",
     "text": [
      "/home/logan/.local/lib/python3.10/site-packages/sklearn/linear_model/_logistic.py:469: ConvergenceWarning: lbfgs failed to converge (status=1):\n",
      "STOP: TOTAL NO. of ITERATIONS REACHED LIMIT.\n",
      "\n",
      "Increase the number of iterations (max_iter) or scale the data as shown in:\n",
      "    https://scikit-learn.org/stable/modules/preprocessing.html\n",
      "Please also refer to the documentation for alternative solver options:\n",
      "    https://scikit-learn.org/stable/modules/linear_model.html#logistic-regression\n",
      "  n_iter_i = _check_optimize_result(\n"
     ]
    },
    {
     "name": "stdout",
     "output_type": "stream",
     "text": [
      "Testing regression model......\n",
      "Returning model predictions......\n",
      "##### Regression (2 classes) #####\n",
      "accuracy_score:  0.9887236632508483\n",
      "recall_score:  0.8864189641529197\n",
      "precision_score:  0.8606457122551419\n",
      "f1_score:  0.8730624313911634\n",
      "\n",
      "\n",
      "\n"
     ]
    }
   ],
   "source": [
    "train,test = util.import_dataset(2)\n",
    "y_pred, y_test = train_test_logistic_regression(train,test)\n",
    "print(f\"##### Regression (2 classes) #####\")\n",
    "print('accuracy_score: ', accuracy_score(y_pred, y_test))\n",
    "print('recall_score: ', recall_score(y_pred, y_test, average='macro'))\n",
    "print('precision_score: ', precision_score(y_pred, y_test, average='macro'))\n",
    "print('f1_score: ', f1_score(y_pred, y_test, average='macro'))\n",
    "print()\n",
    "print()\n",
    "print()\n",
    "del train,test,y_pred,y_test\n"
   ]
  },
  {
   "cell_type": "markdown",
   "metadata": {},
   "source": [
    "# Regression with 7 classes"
   ]
  },
  {
   "cell_type": "code",
   "execution_count": 4,
   "metadata": {},
   "outputs": [
    {
     "name": "stdout",
     "output_type": "stream",
     "text": [
      "Importing datasets.....\n",
      "Processing training and test data....\n",
      "read files: 67\n",
      "check 1\n",
      "check 2\n",
      "Index(['AVG', 'Covariance', 'Drate', 'Duration', 'Header_Length', 'IAT',\n",
      "       'Magnitue', 'Max', 'Min', 'Number', 'Protocol Type', 'Radius', 'Rate',\n",
      "       'Srate', 'Std', 'Tot size', 'Tot sum', 'Variance', 'Weight',\n",
      "       'ack_count', 'ack_flag_number', 'cwr_flag_number', 'ece_flag_number',\n",
      "       'fin_count', 'fin_flag_number', 'flow_duration', 'psh_flag_number',\n",
      "       'rst_count', 'rst_flag_number', 'syn_count', 'syn_flag_number',\n",
      "       'urg_count'],\n",
      "      dtype='object')\n",
      "check 4\n",
      "check 5\n",
      "read files: 17\n",
      "check 1\n",
      "check 2\n",
      "Index(['AVG', 'Covariance', 'Drate', 'Duration', 'Header_Length', 'IAT',\n",
      "       'Magnitue', 'Max', 'Min', 'Number', 'Protocol Type', 'Radius', 'Rate',\n",
      "       'Srate', 'Std', 'Tot size', 'Tot sum', 'Variance', 'Weight',\n",
      "       'ack_count', 'ack_flag_number', 'cwr_flag_number', 'ece_flag_number',\n",
      "       'fin_count', 'fin_flag_number', 'flow_duration', 'psh_flag_number',\n",
      "       'rst_count', 'rst_flag_number', 'syn_count', 'syn_flag_number',\n",
      "       'urg_count'],\n",
      "      dtype='object')\n",
      "check 4\n",
      "check 5\n",
      "Finished processing training and test data\n",
      "Mapping labels to seven classes.....\n",
      "Data import and processing complete....\n",
      "Training regression model......\n"
     ]
    },
    {
     "name": "stderr",
     "output_type": "stream",
     "text": [
      "/home/logan/.local/lib/python3.10/site-packages/sklearn/linear_model/_logistic.py:469: ConvergenceWarning: lbfgs failed to converge (status=1):\n",
      "STOP: TOTAL NO. of ITERATIONS REACHED LIMIT.\n",
      "\n",
      "Increase the number of iterations (max_iter) or scale the data as shown in:\n",
      "    https://scikit-learn.org/stable/modules/preprocessing.html\n",
      "Please also refer to the documentation for alternative solver options:\n",
      "    https://scikit-learn.org/stable/modules/linear_model.html#logistic-regression\n",
      "  n_iter_i = _check_optimize_result(\n"
     ]
    },
    {
     "name": "stdout",
     "output_type": "stream",
     "text": [
      "Testing regression model......\n",
      "Returning model predictions......\n",
      "##### Regression (2 classes) #####\n",
      "accuracy_score:  0.8310611804115222\n",
      "recall_score:  0.609084323414382\n",
      "precision_score:  0.4900770930409636\n",
      "f1_score:  0.5033806433333721\n",
      "\n",
      "\n",
      "\n"
     ]
    }
   ],
   "source": [
    "train,test = util.import_dataset(7)\n",
    "y_pred, y_test = train_test_logistic_regression(train,test)\n",
    "print(f\"##### Regression (2 classes) #####\")\n",
    "print('accuracy_score: ', accuracy_score(y_pred, y_test))\n",
    "print('recall_score: ', recall_score(y_pred, y_test, average='macro'))\n",
    "print('precision_score: ', precision_score(y_pred, y_test, average='macro'))\n",
    "print('f1_score: ', f1_score(y_pred, y_test, average='macro'))\n",
    "print()\n",
    "print()\n",
    "print()\n",
    "del train,test,y_pred,y_test"
   ]
  },
  {
   "cell_type": "markdown",
   "metadata": {},
   "source": [
    "# Regression with 34 classes"
   ]
  },
  {
   "cell_type": "code",
   "execution_count": null,
   "metadata": {},
   "outputs": [],
   "source": []
  },
  {
   "cell_type": "code",
   "execution_count": 4,
   "metadata": {},
   "outputs": [
    {
     "name": "stdout",
     "output_type": "stream",
     "text": [
      "Importing datasets.....\n",
      "Processing training and test data....\n",
      "read files: 26\n",
      "check 1\n",
      "check 2\n",
      "Index(['AVG', 'Covariance', 'Drate', 'Duration', 'Header_Length', 'IAT',\n",
      "       'Magnitue', 'Max', 'Min', 'Number', 'Protocol Type', 'Radius', 'Rate',\n",
      "       'Srate', 'Std', 'Tot size', 'Tot sum', 'Variance', 'Weight',\n",
      "       'ack_count', 'ack_flag_number', 'cwr_flag_number', 'ece_flag_number',\n",
      "       'fin_count', 'fin_flag_number', 'flow_duration', 'psh_flag_number',\n",
      "       'rst_count', 'rst_flag_number', 'syn_count', 'syn_flag_number',\n",
      "       'urg_count'],\n",
      "      dtype='object')\n",
      "check 4\n",
      "check 5\n",
      "read files: 7\n",
      "check 1\n",
      "check 2\n",
      "Index(['AVG', 'Covariance', 'Drate', 'Duration', 'Header_Length', 'IAT',\n",
      "       'Magnitue', 'Max', 'Min', 'Number', 'Protocol Type', 'Radius', 'Rate',\n",
      "       'Srate', 'Std', 'Tot size', 'Tot sum', 'Variance', 'Weight',\n",
      "       'ack_count', 'ack_flag_number', 'cwr_flag_number', 'ece_flag_number',\n",
      "       'fin_count', 'fin_flag_number', 'flow_duration', 'psh_flag_number',\n",
      "       'rst_count', 'rst_flag_number', 'syn_count', 'syn_flag_number',\n",
      "       'urg_count'],\n",
      "      dtype='object')\n",
      "check 4\n",
      "check 5\n",
      "Finished processing training and test data\n",
      "Data import and processing complete....\n",
      "Training regression model......\n"
     ]
    },
    {
     "name": "stderr",
     "output_type": "stream",
     "text": [
      "/home/logan/.local/lib/python3.10/site-packages/sklearn/linear_model/_logistic.py:469: ConvergenceWarning: lbfgs failed to converge (status=1):\n",
      "STOP: TOTAL NO. of ITERATIONS REACHED LIMIT.\n",
      "\n",
      "Increase the number of iterations (max_iter) or scale the data as shown in:\n",
      "    https://scikit-learn.org/stable/modules/preprocessing.html\n",
      "Please also refer to the documentation for alternative solver options:\n",
      "    https://scikit-learn.org/stable/modules/linear_model.html#logistic-regression\n",
      "  n_iter_i = _check_optimize_result(\n"
     ]
    },
    {
     "name": "stdout",
     "output_type": "stream",
     "text": [
      "Testing regression model......\n",
      "Returning model predictions......\n",
      "##### Regression (2 classes) #####\n",
      "accuracy_score:  0.8013693491913986\n",
      "recall_score:  0.5703753243481281\n",
      "precision_score:  0.47550104109375924\n",
      "f1_score:  0.4769957709616329\n",
      "\n",
      "\n",
      "\n"
     ]
    }
   ],
   "source": [
    "train,test = util.import_dataset()\n",
    "y_pred, y_test = train_test_logistic_regression(train,test)\n",
    "print(f\"##### Regression (2 classes) #####\")\n",
    "print('accuracy_score: ', accuracy_score(y_pred, y_test))\n",
    "print('recall_score: ', recall_score(y_pred, y_test, average='macro'))\n",
    "print('precision_score: ', precision_score(y_pred, y_test, average='macro'))\n",
    "print('f1_score: ', f1_score(y_pred, y_test, average='macro'))\n",
    "print()\n",
    "print()\n",
    "print()\n",
    "del train,test,y_pred,y_test"
   ]
  }
 ],
 "metadata": {
  "kernelspec": {
   "display_name": "Python 3",
   "language": "python",
   "name": "python3"
  },
  "language_info": {
   "codemirror_mode": {
    "name": "ipython",
    "version": 3
   },
   "file_extension": ".py",
   "mimetype": "text/x-python",
   "name": "python",
   "nbconvert_exporter": "python",
   "pygments_lexer": "ipython3",
   "version": "3.10.12"
  }
 },
 "nbformat": 4,
 "nbformat_minor": 2
}
