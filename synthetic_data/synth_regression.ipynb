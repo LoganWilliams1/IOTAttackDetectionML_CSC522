{
 "cells": [
  {
   "cell_type": "code",
   "execution_count": null,
   "metadata": {},
   "outputs": [],
   "source": [
    "import fast_ML_synthesizer\n",
    "import sys\n",
    "sys.path.append( '../regression')\n",
    "import regression as regression"
   ]
  },
  {
   "cell_type": "code",
   "execution_count": null,
   "metadata": {},
   "outputs": [],
   "source": [
    "synthesizer, test = fast_ML_synthesizer.get_synthesizer()\n",
    "baseline_set = synthesizer.sample(num_rows=38000000, batch_size=1000, output_file_path='synthetic_datasets/FML_baseline_set.csv')\n",
    "\n",
    "y_pred, y_test = regression.train_test_logistic_regression(baseline_set, test)\n",
    "regression.print_scores(y_pred, y_test)\n",
    "\n",
    "\n",
    "\n",
    "\n"
   ]
  }
 ],
 "metadata": {
  "kernelspec": {
   "display_name": "Python 3",
   "language": "python",
   "name": "python3"
  },
  "language_info": {
   "name": "python",
   "version": "3.10.12"
  }
 },
 "nbformat": 4,
 "nbformat_minor": 2
}
