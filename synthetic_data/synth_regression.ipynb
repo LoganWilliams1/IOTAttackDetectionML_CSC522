{
 "cells": [
  {
   "cell_type": "code",
   "execution_count": 2,
   "metadata": {},
   "outputs": [],
   "source": [
    "import fast_ML_synthesizer\n",
    "import sys\n",
    "sys.path.append( '../regression')\n",
    "from regression import train_test_logistic_regression, print_scores"
   ]
  },
  {
   "cell_type": "code",
   "execution_count": 3,
   "metadata": {},
   "outputs": [
    {
     "name": "stdout",
     "output_type": "stream",
     "text": [
      "Importing datasets.....\n",
      "Processing training and test data....\n",
      "Finished processing training and test data\n",
      "Data import and processing complete....\n",
      "\n",
      "METADATA:\n",
      "METADATA_SPEC_VERSION SINGLE_TABLE_V1\n",
      "columns {'flow_duration': {'sdtype': 'numerical'}, 'Header_Length': {'sdtype': 'numerical'}, 'Protocol Type': {'sdtype': 'numerical'}, 'Duration': {'sdtype': 'numerical'}, 'Rate': {'sdtype': 'numerical'}, 'Srate': {'sdtype': 'numerical'}, 'Drate': {'sdtype': 'numerical'}, 'fin_flag_number': {'sdtype': 'numerical'}, 'syn_flag_number': {'sdtype': 'numerical'}, 'rst_flag_number': {'sdtype': 'numerical'}, 'psh_flag_number': {'sdtype': 'numerical'}, 'ack_flag_number': {'sdtype': 'numerical'}, 'ece_flag_number': {'sdtype': 'numerical'}, 'cwr_flag_number': {'sdtype': 'numerical'}, 'ack_count': {'sdtype': 'numerical'}, 'syn_count': {'sdtype': 'numerical'}, 'fin_count': {'sdtype': 'numerical'}, 'urg_count': {'sdtype': 'numerical'}, 'rst_count': {'sdtype': 'numerical'}, 'HTTP': {'sdtype': 'categorical'}, 'HTTPS': {'sdtype': 'categorical'}, 'DNS': {'sdtype': 'categorical'}, 'Telnet': {'sdtype': 'categorical'}, 'SMTP': {'sdtype': 'categorical'}, 'SSH': {'sdtype': 'categorical'}, 'IRC': {'sdtype': 'categorical'}, 'TCP': {'sdtype': 'categorical'}, 'UDP': {'sdtype': 'categorical'}, 'DHCP': {'sdtype': 'categorical'}, 'ARP': {'sdtype': 'categorical'}, 'ICMP': {'sdtype': 'categorical'}, 'IPv': {'sdtype': 'categorical'}, 'LLC': {'sdtype': 'categorical'}, 'Tot sum': {'sdtype': 'numerical'}, 'Min': {'sdtype': 'numerical'}, 'Max': {'sdtype': 'numerical'}, 'AVG': {'sdtype': 'numerical'}, 'Std': {'sdtype': 'numerical'}, 'Tot size': {'sdtype': 'numerical'}, 'IAT': {'sdtype': 'numerical'}, 'Number': {'sdtype': 'numerical'}, 'Magnitue': {'sdtype': 'numerical'}, 'Radius': {'sdtype': 'numerical'}, 'Covariance': {'sdtype': 'numerical'}, 'Variance': {'sdtype': 'numerical'}, 'Weight': {'sdtype': 'numerical'}, 'label': {'sdtype': 'categorical'}}\n",
      "\n",
      "COLUMNS:\n",
      "flow_duration: numerical\n",
      "Header_Length: numerical\n",
      "Protocol Type: numerical\n",
      "Duration: numerical\n",
      "Rate: numerical\n",
      "Srate: numerical\n",
      "Drate: numerical\n",
      "fin_flag_number: numerical\n",
      "syn_flag_number: numerical\n",
      "rst_flag_number: numerical\n",
      "psh_flag_number: numerical\n",
      "ack_flag_number: numerical\n",
      "ece_flag_number: numerical\n",
      "cwr_flag_number: numerical\n",
      "ack_count: numerical\n",
      "syn_count: numerical\n",
      "fin_count: numerical\n",
      "urg_count: numerical\n",
      "rst_count: numerical\n",
      "HTTP: categorical\n",
      "HTTPS: categorical\n",
      "DNS: categorical\n",
      "Telnet: categorical\n",
      "SMTP: categorical\n",
      "SSH: categorical\n",
      "IRC: categorical\n",
      "TCP: categorical\n",
      "UDP: categorical\n",
      "DHCP: categorical\n",
      "ARP: categorical\n",
      "ICMP: categorical\n",
      "IPv: categorical\n",
      "LLC: categorical\n",
      "Tot sum: numerical\n",
      "Min: numerical\n",
      "Max: numerical\n",
      "AVG: numerical\n",
      "Std: numerical\n",
      "Tot size: numerical\n",
      "IAT: numerical\n",
      "Number: numerical\n",
      "Magnitue: numerical\n",
      "Radius: numerical\n",
      "Covariance: numerical\n",
      "Variance: numerical\n",
      "Weight: numerical\n",
      "label: categorical\n"
     ]
    },
    {
     "name": "stderr",
     "output_type": "stream",
     "text": [
      "Sampling rows:  34%|███▍      | 1302000/3800000 [05:42<10:56, 3805.32it/s]\n"
     ]
    },
    {
     "ename": "FileNotFoundError",
     "evalue": "Error: Sampling terminated. Partial results are stored in /home/logan/CSC_522/IOTAttackDetectionML_CSC522/synthetic_data/synthetic_datasets/FML_baseline_set.csv.\n[Errno 2] No such file or directory: '/home/logan/CSC_522/IOTAttackDetectionML_CSC522/synthetic_data/synthetic_datasets/FML_baseline_set.csv'",
     "output_type": "error",
     "traceback": [
      "\u001b[0;31m---------------------------------------------------------------------------\u001b[0m",
      "\u001b[0;31mFileNotFoundError\u001b[0m                         Traceback (most recent call last)",
      "File \u001b[0;32m~/.local/lib/python3.10/site-packages/sdv/single_table/base.py:761\u001b[0m, in \u001b[0;36mBaseSingleTableSynthesizer._sample_with_progress_bar\u001b[0;34m(self, num_rows, max_tries_per_batch, batch_size, output_file_path, show_progress_bar)\u001b[0m\n\u001b[1;32m    760\u001b[0m         progress_bar\u001b[38;5;241m.\u001b[39mset_description(\u001b[38;5;124m'\u001b[39m\u001b[38;5;124mSampling rows\u001b[39m\u001b[38;5;124m'\u001b[39m)\n\u001b[0;32m--> 761\u001b[0m         sampled \u001b[38;5;241m=\u001b[39m \u001b[38;5;28;43mself\u001b[39;49m\u001b[38;5;241;43m.\u001b[39;49m\u001b[43m_sample_in_batches\u001b[49m\u001b[43m(\u001b[49m\n\u001b[1;32m    762\u001b[0m \u001b[43m            \u001b[49m\u001b[43mnum_rows\u001b[49m\u001b[38;5;241;43m=\u001b[39;49m\u001b[43mnum_rows\u001b[49m\u001b[43m,\u001b[49m\n\u001b[1;32m    763\u001b[0m \u001b[43m            \u001b[49m\u001b[43mbatch_size\u001b[49m\u001b[38;5;241;43m=\u001b[39;49m\u001b[43mbatch_size\u001b[49m\u001b[43m,\u001b[49m\n\u001b[1;32m    764\u001b[0m \u001b[43m            \u001b[49m\u001b[43mmax_tries_per_batch\u001b[49m\u001b[38;5;241;43m=\u001b[39;49m\u001b[43mmax_tries_per_batch\u001b[49m\u001b[43m,\u001b[49m\n\u001b[1;32m    765\u001b[0m \u001b[43m            \u001b[49m\u001b[43mprogress_bar\u001b[49m\u001b[38;5;241;43m=\u001b[39;49m\u001b[43mprogress_bar\u001b[49m\u001b[43m,\u001b[49m\n\u001b[1;32m    766\u001b[0m \u001b[43m            \u001b[49m\u001b[43moutput_file_path\u001b[49m\u001b[38;5;241;43m=\u001b[39;49m\u001b[43moutput_file_path\u001b[49m\n\u001b[1;32m    767\u001b[0m \u001b[43m        \u001b[49m\u001b[43m)\u001b[49m\n\u001b[1;32m    769\u001b[0m \u001b[38;5;28;01mexcept\u001b[39;00m (\u001b[38;5;167;01mException\u001b[39;00m, \u001b[38;5;167;01mKeyboardInterrupt\u001b[39;00m) \u001b[38;5;28;01mas\u001b[39;00m error:\n",
      "File \u001b[0;32m~/.local/lib/python3.10/site-packages/sdv/single_table/base.py:692\u001b[0m, in \u001b[0;36mBaseSingleTableSynthesizer._sample_in_batches\u001b[0;34m(self, num_rows, batch_size, max_tries_per_batch, conditions, transformed_conditions, float_rtol, progress_bar, output_file_path)\u001b[0m\n\u001b[1;32m    691\u001b[0m \u001b[38;5;28;01mfor\u001b[39;00m step \u001b[38;5;129;01min\u001b[39;00m \u001b[38;5;28mrange\u001b[39m(math\u001b[38;5;241m.\u001b[39mceil(num_rows \u001b[38;5;241m/\u001b[39m batch_size)):\n\u001b[0;32m--> 692\u001b[0m     sampled_rows \u001b[38;5;241m=\u001b[39m \u001b[38;5;28;43mself\u001b[39;49m\u001b[38;5;241;43m.\u001b[39;49m\u001b[43m_sample_batch\u001b[49m\u001b[43m(\u001b[49m\n\u001b[1;32m    693\u001b[0m \u001b[43m        \u001b[49m\u001b[43mbatch_size\u001b[49m\u001b[38;5;241;43m=\u001b[39;49m\u001b[43mbatch_size\u001b[49m\u001b[43m,\u001b[49m\n\u001b[1;32m    694\u001b[0m \u001b[43m        \u001b[49m\u001b[43mmax_tries\u001b[49m\u001b[38;5;241;43m=\u001b[39;49m\u001b[43mmax_tries_per_batch\u001b[49m\u001b[43m,\u001b[49m\n\u001b[1;32m    695\u001b[0m \u001b[43m        \u001b[49m\u001b[43mconditions\u001b[49m\u001b[38;5;241;43m=\u001b[39;49m\u001b[43mconditions\u001b[49m\u001b[43m,\u001b[49m\n\u001b[1;32m    696\u001b[0m \u001b[43m        \u001b[49m\u001b[43mtransformed_conditions\u001b[49m\u001b[38;5;241;43m=\u001b[39;49m\u001b[43mtransformed_conditions\u001b[49m\u001b[43m,\u001b[49m\n\u001b[1;32m    697\u001b[0m \u001b[43m        \u001b[49m\u001b[43mfloat_rtol\u001b[49m\u001b[38;5;241;43m=\u001b[39;49m\u001b[43mfloat_rtol\u001b[49m\u001b[43m,\u001b[49m\n\u001b[1;32m    698\u001b[0m \u001b[43m        \u001b[49m\u001b[43mprogress_bar\u001b[49m\u001b[38;5;241;43m=\u001b[39;49m\u001b[43mprogress_bar\u001b[49m\u001b[43m,\u001b[49m\n\u001b[1;32m    699\u001b[0m \u001b[43m        \u001b[49m\u001b[43moutput_file_path\u001b[49m\u001b[38;5;241;43m=\u001b[39;49m\u001b[43moutput_file_path\u001b[49m\u001b[43m,\u001b[49m\n\u001b[1;32m    700\u001b[0m \u001b[43m    \u001b[49m\u001b[43m)\u001b[49m\n\u001b[1;32m    701\u001b[0m     sampled\u001b[38;5;241m.\u001b[39mappend(sampled_rows)\n",
      "File \u001b[0;32m~/.local/lib/python3.10/site-packages/sdv/single_table/base.py:639\u001b[0m, in \u001b[0;36mBaseSingleTableSynthesizer._sample_batch\u001b[0;34m(self, batch_size, max_tries, conditions, transformed_conditions, float_rtol, progress_bar, output_file_path, keep_extra_columns)\u001b[0m\n\u001b[1;32m    638\u001b[0m append_kwargs \u001b[38;5;241m=\u001b[39m {\u001b[38;5;124m'\u001b[39m\u001b[38;5;124mmode\u001b[39m\u001b[38;5;124m'\u001b[39m: \u001b[38;5;124m'\u001b[39m\u001b[38;5;124ma\u001b[39m\u001b[38;5;124m'\u001b[39m, \u001b[38;5;124m'\u001b[39m\u001b[38;5;124mheader\u001b[39m\u001b[38;5;124m'\u001b[39m: \u001b[38;5;28;01mFalse\u001b[39;00m}\n\u001b[0;32m--> 639\u001b[0m append_kwargs \u001b[38;5;241m=\u001b[39m append_kwargs \u001b[38;5;28;01mif\u001b[39;00m \u001b[43mos\u001b[49m\u001b[38;5;241;43m.\u001b[39;49m\u001b[43mpath\u001b[49m\u001b[38;5;241;43m.\u001b[39;49m\u001b[43mgetsize\u001b[49m\u001b[43m(\u001b[49m\u001b[43moutput_file_path\u001b[49m\u001b[43m)\u001b[49m \u001b[38;5;241m>\u001b[39m \u001b[38;5;241m0\u001b[39m \u001b[38;5;28;01melse\u001b[39;00m {}\n\u001b[1;32m    640\u001b[0m sampled\u001b[38;5;241m.\u001b[39mhead(num_sampled)\u001b[38;5;241m.\u001b[39mtail(num_increase)\u001b[38;5;241m.\u001b[39mto_csv(\n\u001b[1;32m    641\u001b[0m     output_file_path,\n\u001b[1;32m    642\u001b[0m     index\u001b[38;5;241m=\u001b[39m\u001b[38;5;28;01mFalse\u001b[39;00m,\n\u001b[1;32m    643\u001b[0m     \u001b[38;5;241m*\u001b[39m\u001b[38;5;241m*\u001b[39mappend_kwargs,\n\u001b[1;32m    644\u001b[0m )\n",
      "File \u001b[0;32m/usr/lib/python3.10/genericpath.py:50\u001b[0m, in \u001b[0;36mgetsize\u001b[0;34m(filename)\u001b[0m\n\u001b[1;32m     49\u001b[0m \u001b[38;5;124;03m\"\"\"Return the size of a file, reported by os.stat().\"\"\"\u001b[39;00m\n\u001b[0;32m---> 50\u001b[0m \u001b[38;5;28;01mreturn\u001b[39;00m \u001b[43mos\u001b[49m\u001b[38;5;241;43m.\u001b[39;49m\u001b[43mstat\u001b[49m\u001b[43m(\u001b[49m\u001b[43mfilename\u001b[49m\u001b[43m)\u001b[49m\u001b[38;5;241m.\u001b[39mst_size\n",
      "\u001b[0;31mFileNotFoundError\u001b[0m: [Errno 2] No such file or directory: '/home/logan/CSC_522/IOTAttackDetectionML_CSC522/synthetic_data/synthetic_datasets/FML_baseline_set.csv'",
      "\nDuring handling of the above exception, another exception occurred:\n",
      "\u001b[0;31mFileNotFoundError\u001b[0m                         Traceback (most recent call last)",
      "Cell \u001b[0;32mIn[3], line 2\u001b[0m\n\u001b[1;32m      1\u001b[0m synthesizer, test \u001b[38;5;241m=\u001b[39m fast_ML_synthesizer\u001b[38;5;241m.\u001b[39mget_synthesizer()\n\u001b[0;32m----> 2\u001b[0m baseline_set \u001b[38;5;241m=\u001b[39m \u001b[43msynthesizer\u001b[49m\u001b[38;5;241;43m.\u001b[39;49m\u001b[43msample\u001b[49m\u001b[43m(\u001b[49m\u001b[43mnum_rows\u001b[49m\u001b[38;5;241;43m=\u001b[39;49m\u001b[38;5;241;43m3800000\u001b[39;49m\u001b[43m,\u001b[49m\u001b[43m \u001b[49m\u001b[43mbatch_size\u001b[49m\u001b[38;5;241;43m=\u001b[39;49m\u001b[38;5;241;43m1000\u001b[39;49m\u001b[43m,\u001b[49m\u001b[43m \u001b[49m\u001b[43moutput_file_path\u001b[49m\u001b[38;5;241;43m=\u001b[39;49m\u001b[38;5;124;43m'\u001b[39;49m\u001b[38;5;124;43msynthetic_datasets/FML_baseline_set.csv\u001b[39;49m\u001b[38;5;124;43m'\u001b[39;49m\u001b[43m)\u001b[49m\n\u001b[1;32m      4\u001b[0m y_pred, y_test \u001b[38;5;241m=\u001b[39m train_test_logistic_regression(baseline_set, test)\n\u001b[1;32m      5\u001b[0m print_scores(y_pred, y_test)\n",
      "File \u001b[0;32m~/.local/lib/python3.10/site-packages/sdv/lite/single_table.py:104\u001b[0m, in \u001b[0;36mSingleTablePreset.sample\u001b[0;34m(self, num_rows, max_tries_per_batch, batch_size, output_file_path)\u001b[0m\n\u001b[1;32m     86\u001b[0m \u001b[38;5;28;01mdef\u001b[39;00m \u001b[38;5;21msample\u001b[39m(\u001b[38;5;28mself\u001b[39m, num_rows, max_tries_per_batch\u001b[38;5;241m=\u001b[39m\u001b[38;5;241m100\u001b[39m, batch_size\u001b[38;5;241m=\u001b[39m\u001b[38;5;28;01mNone\u001b[39;00m, output_file_path\u001b[38;5;241m=\u001b[39m\u001b[38;5;28;01mNone\u001b[39;00m):\n\u001b[1;32m     87\u001b[0m     \u001b[38;5;124;03m\"\"\"Sample rows from this table.\u001b[39;00m\n\u001b[1;32m     88\u001b[0m \n\u001b[1;32m     89\u001b[0m \u001b[38;5;124;03m    Args:\u001b[39;00m\n\u001b[0;32m   (...)\u001b[0m\n\u001b[1;32m    102\u001b[0m \u001b[38;5;124;03m            Sampled data.\u001b[39;00m\n\u001b[1;32m    103\u001b[0m \u001b[38;5;124;03m    \"\"\"\u001b[39;00m\n\u001b[0;32m--> 104\u001b[0m     sampled \u001b[38;5;241m=\u001b[39m \u001b[38;5;28;43mself\u001b[39;49m\u001b[38;5;241;43m.\u001b[39;49m\u001b[43m_synthesizer\u001b[49m\u001b[38;5;241;43m.\u001b[39;49m\u001b[43msample\u001b[49m\u001b[43m(\u001b[49m\n\u001b[1;32m    105\u001b[0m \u001b[43m        \u001b[49m\u001b[43mnum_rows\u001b[49m\u001b[43m,\u001b[49m\n\u001b[1;32m    106\u001b[0m \u001b[43m        \u001b[49m\u001b[43mmax_tries_per_batch\u001b[49m\u001b[43m,\u001b[49m\n\u001b[1;32m    107\u001b[0m \u001b[43m        \u001b[49m\u001b[43mbatch_size\u001b[49m\u001b[43m,\u001b[49m\n\u001b[1;32m    108\u001b[0m \u001b[43m        \u001b[49m\u001b[43moutput_file_path\u001b[49m\u001b[43m,\u001b[49m\n\u001b[1;32m    109\u001b[0m \u001b[43m    \u001b[49m\u001b[43m)\u001b[49m\n\u001b[1;32m    111\u001b[0m     \u001b[38;5;28;01mreturn\u001b[39;00m sampled\n",
      "File \u001b[0;32m~/.local/lib/python3.10/site-packages/sdv/single_table/base.py:800\u001b[0m, in \u001b[0;36mBaseSingleTableSynthesizer.sample\u001b[0;34m(self, num_rows, max_tries_per_batch, batch_size, output_file_path)\u001b[0m\n\u001b[1;32m    797\u001b[0m has_batches \u001b[38;5;241m=\u001b[39m batch_size \u001b[38;5;129;01mis\u001b[39;00m \u001b[38;5;129;01mnot\u001b[39;00m \u001b[38;5;28;01mNone\u001b[39;00m \u001b[38;5;129;01mand\u001b[39;00m batch_size \u001b[38;5;241m!=\u001b[39m num_rows\n\u001b[1;32m    798\u001b[0m show_progress_bar \u001b[38;5;241m=\u001b[39m has_constraints \u001b[38;5;129;01mor\u001b[39;00m has_batches\n\u001b[0;32m--> 800\u001b[0m \u001b[38;5;28;01mreturn\u001b[39;00m \u001b[38;5;28;43mself\u001b[39;49m\u001b[38;5;241;43m.\u001b[39;49m\u001b[43m_sample_with_progress_bar\u001b[49m\u001b[43m(\u001b[49m\n\u001b[1;32m    801\u001b[0m \u001b[43m    \u001b[49m\u001b[43mnum_rows\u001b[49m\u001b[43m,\u001b[49m\n\u001b[1;32m    802\u001b[0m \u001b[43m    \u001b[49m\u001b[43mmax_tries_per_batch\u001b[49m\u001b[43m,\u001b[49m\n\u001b[1;32m    803\u001b[0m \u001b[43m    \u001b[49m\u001b[43mbatch_size\u001b[49m\u001b[43m,\u001b[49m\n\u001b[1;32m    804\u001b[0m \u001b[43m    \u001b[49m\u001b[43moutput_file_path\u001b[49m\u001b[43m,\u001b[49m\n\u001b[1;32m    805\u001b[0m \u001b[43m    \u001b[49m\u001b[43mshow_progress_bar\u001b[49m\u001b[38;5;241;43m=\u001b[39;49m\u001b[43mshow_progress_bar\u001b[49m\n\u001b[1;32m    806\u001b[0m \u001b[43m\u001b[49m\u001b[43m)\u001b[49m\n",
      "File \u001b[0;32m~/.local/lib/python3.10/site-packages/sdv/single_table/base.py:770\u001b[0m, in \u001b[0;36mBaseSingleTableSynthesizer._sample_with_progress_bar\u001b[0;34m(self, num_rows, max_tries_per_batch, batch_size, output_file_path, show_progress_bar)\u001b[0m\n\u001b[1;32m    761\u001b[0m         sampled \u001b[38;5;241m=\u001b[39m \u001b[38;5;28mself\u001b[39m\u001b[38;5;241m.\u001b[39m_sample_in_batches(\n\u001b[1;32m    762\u001b[0m             num_rows\u001b[38;5;241m=\u001b[39mnum_rows,\n\u001b[1;32m    763\u001b[0m             batch_size\u001b[38;5;241m=\u001b[39mbatch_size,\n\u001b[0;32m   (...)\u001b[0m\n\u001b[1;32m    766\u001b[0m             output_file_path\u001b[38;5;241m=\u001b[39moutput_file_path\n\u001b[1;32m    767\u001b[0m         )\n\u001b[1;32m    769\u001b[0m \u001b[38;5;28;01mexcept\u001b[39;00m (\u001b[38;5;167;01mException\u001b[39;00m, \u001b[38;5;167;01mKeyboardInterrupt\u001b[39;00m) \u001b[38;5;28;01mas\u001b[39;00m error:\n\u001b[0;32m--> 770\u001b[0m     \u001b[43mhandle_sampling_error\u001b[49m\u001b[43m(\u001b[49m\u001b[43moutput_file_path\u001b[49m\u001b[43m \u001b[49m\u001b[38;5;241;43m==\u001b[39;49m\u001b[43m \u001b[49m\u001b[43mTMP_FILE_NAME\u001b[49m\u001b[43m,\u001b[49m\u001b[43m \u001b[49m\u001b[43moutput_file_path\u001b[49m\u001b[43m,\u001b[49m\u001b[43m \u001b[49m\u001b[43merror\u001b[49m\u001b[43m)\u001b[49m\n\u001b[1;32m    772\u001b[0m \u001b[38;5;28;01melse\u001b[39;00m:\n\u001b[1;32m    773\u001b[0m     \u001b[38;5;28;01mif\u001b[39;00m output_file_path \u001b[38;5;241m==\u001b[39m TMP_FILE_NAME \u001b[38;5;129;01mand\u001b[39;00m os\u001b[38;5;241m.\u001b[39mpath\u001b[38;5;241m.\u001b[39mexists(output_file_path):\n",
      "File \u001b[0;32m~/.local/lib/python3.10/site-packages/sdv/single_table/utils.py:112\u001b[0m, in \u001b[0;36mhandle_sampling_error\u001b[0;34m(is_tmp_file, output_file_path, sampling_error)\u001b[0m\n\u001b[1;32m    107\u001b[0m     error_msg \u001b[38;5;241m=\u001b[39m (\n\u001b[1;32m    108\u001b[0m         \u001b[38;5;124mf\u001b[39m\u001b[38;5;124m'\u001b[39m\u001b[38;5;124mError: Sampling terminated. Partial results are stored in \u001b[39m\u001b[38;5;132;01m{\u001b[39;00moutput_file_path\u001b[38;5;132;01m}\u001b[39;00m\u001b[38;5;124m.\u001b[39m\u001b[38;5;124m'\u001b[39m\n\u001b[1;32m    109\u001b[0m     )\n\u001b[1;32m    111\u001b[0m \u001b[38;5;28;01mif\u001b[39;00m error_msg:\n\u001b[0;32m--> 112\u001b[0m     \u001b[38;5;28;01mraise\u001b[39;00m \u001b[38;5;28mtype\u001b[39m(sampling_error)(error_msg \u001b[38;5;241m+\u001b[39m \u001b[38;5;124m'\u001b[39m\u001b[38;5;130;01m\\n\u001b[39;00m\u001b[38;5;124m'\u001b[39m \u001b[38;5;241m+\u001b[39m \u001b[38;5;28mstr\u001b[39m(sampling_error))\n\u001b[1;32m    114\u001b[0m \u001b[38;5;28;01mraise\u001b[39;00m sampling_error\n",
      "\u001b[0;31mFileNotFoundError\u001b[0m: Error: Sampling terminated. Partial results are stored in /home/logan/CSC_522/IOTAttackDetectionML_CSC522/synthetic_data/synthetic_datasets/FML_baseline_set.csv.\n[Errno 2] No such file or directory: '/home/logan/CSC_522/IOTAttackDetectionML_CSC522/synthetic_data/synthetic_datasets/FML_baseline_set.csv'"
     ]
    }
   ],
   "source": [
    "synthesizer, test = fast_ML_synthesizer.get_synthesizer()\n",
    "baseline_set = synthesizer.sample(num_rows=38000000, batch_size=1000, output_file_path='synthetic_datasets/FML_baseline_set.csv')\n",
    "\n",
    "y_pred, y_test = train_test_logistic_regression(baseline_set, test)\n",
    "print_scores(y_pred, y_test)\n",
    "\n",
    "\n",
    "\n",
    "\n"
   ]
  }
 ],
 "metadata": {
  "kernelspec": {
   "display_name": "Python 3",
   "language": "python",
   "name": "python3"
  },
  "language_info": {
   "codemirror_mode": {
    "name": "ipython",
    "version": 3
   },
   "file_extension": ".py",
   "mimetype": "text/x-python",
   "name": "python",
   "nbconvert_exporter": "python",
   "pygments_lexer": "ipython3",
   "version": "3.10.12"
  }
 },
 "nbformat": 4,
 "nbformat_minor": 2
}
