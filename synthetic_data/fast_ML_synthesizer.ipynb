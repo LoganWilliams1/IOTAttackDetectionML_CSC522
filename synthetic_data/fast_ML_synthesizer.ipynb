{
 "cells": [
  {
   "cell_type": "code",
   "execution_count": 1,
   "metadata": {},
   "outputs": [],
   "source": [
    "import sys\n",
    "sys.path.append( '../util' )\n",
    "import util as util\n",
    "from sdv.metadata import SingleTableMetadata\n",
    "from sdv.lite import SingleTablePreset"
   ]
  },
  {
   "cell_type": "code",
   "execution_count": 2,
   "metadata": {},
   "outputs": [],
   "source": [
    "# creates and checks metadata object\n",
    "\n",
    "def get_metadata(train):\n",
    "    metadata = SingleTableMetadata()\n",
    "    metadata.detect_from_dataframe(train)\n",
    "    metadata_dict = metadata.to_dict()\n",
    "    print()\n",
    "    print(\"METADATA:\")\n",
    "    for key, value in metadata_dict.items():\n",
    "        print(key, value)\n",
    "    print()\n",
    "    print(\"COLUMNS:\")\n",
    "    columns = metadata_dict.get('columns')\n",
    "    for key, value in columns.items():\n",
    "        sdtype = value.get('sdtype')\n",
    "        print(key + \": \" + sdtype)\n",
    "    \n",
    "    return metadata"
   ]
  },
  {
   "cell_type": "code",
   "execution_count": 5,
   "metadata": {},
   "outputs": [],
   "source": [
    "def get_synthesizer():\n",
    "    # train/test split, get metadata for train\n",
    "    train, test = util.import_dataset()\n",
    "    metadata = get_metadata(train)\n",
    "\n",
    "\n",
    "    # make and fit fast synthesizer\n",
    "    fast_synthesizer = SingleTablePreset(metadata, name='FAST_ML')\n",
    "    fast_synthesizer.fit(train) \n",
    "    filepath = \"synthesizer_pickles/FML_synthesizer.pkl\"\n",
    "    fast_synthesizer.save(filepath=filepath)\n",
    "    return fast_synthesizer, test\n"
   ]
  }
 ],
 "metadata": {
  "kernelspec": {
   "display_name": "Python 3",
   "language": "python",
   "name": "python3"
  },
  "language_info": {
   "codemirror_mode": {
    "name": "ipython",
    "version": 3
   },
   "file_extension": ".py",
   "mimetype": "text/x-python",
   "name": "python",
   "nbconvert_exporter": "python",
   "pygments_lexer": "ipython3",
   "version": "3.10.12"
  }
 },
 "nbformat": 4,
 "nbformat_minor": 2
}
